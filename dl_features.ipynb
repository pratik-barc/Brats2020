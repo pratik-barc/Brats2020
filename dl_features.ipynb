{
 "cells": [
  {
   "cell_type": "code",
   "execution_count": 10,
   "id": "289ca626",
   "metadata": {},
   "outputs": [],
   "source": [
    "import numpy as np\n",
    "import pandas as pd\n",
    "from tensorflow.keras.models import load_model, Model"
   ]
  },
  {
   "cell_type": "code",
   "execution_count": 11,
   "id": "91a59440",
   "metadata": {},
   "outputs": [],
   "source": [
    "# Load your custom model\n",
    "model_path = 'brats_3d_total.hdf5'\n",
    "custom_model = load_model(model_path, compile=False)"
   ]
  },
  {
   "cell_type": "code",
   "execution_count": 12,
   "id": "97dd5e13",
   "metadata": {},
   "outputs": [
    {
     "name": "stdout",
     "output_type": "stream",
     "text": [
      "Model: \"model_1\"\n",
      "__________________________________________________________________________________________________\n",
      " Layer (type)                   Output Shape         Param #     Connected to                     \n",
      "==================================================================================================\n",
      " input_2 (InputLayer)           [(None, 128, 128, 1  0           []                               \n",
      "                                28, 3)]                                                           \n",
      "                                                                                                  \n",
      " conv3d_19 (Conv3D)             (None, 128, 128, 12  1312        ['input_2[0][0]']                \n",
      "                                8, 16)                                                            \n",
      "                                                                                                  \n",
      " dropout_9 (Dropout)            (None, 128, 128, 12  0           ['conv3d_19[0][0]']              \n",
      "                                8, 16)                                                            \n",
      "                                                                                                  \n",
      " conv3d_20 (Conv3D)             (None, 128, 128, 12  6928        ['dropout_9[0][0]']              \n",
      "                                8, 16)                                                            \n",
      "                                                                                                  \n",
      " max_pooling3d_4 (MaxPooling3D)  (None, 64, 64, 64,   0          ['conv3d_20[0][0]']              \n",
      "                                16)                                                               \n",
      "                                                                                                  \n",
      " conv3d_21 (Conv3D)             (None, 64, 64, 64,   13856       ['max_pooling3d_4[0][0]']        \n",
      "                                32)                                                               \n",
      "                                                                                                  \n",
      " dropout_10 (Dropout)           (None, 64, 64, 64,   0           ['conv3d_21[0][0]']              \n",
      "                                32)                                                               \n",
      "                                                                                                  \n",
      " conv3d_22 (Conv3D)             (None, 64, 64, 64,   27680       ['dropout_10[0][0]']             \n",
      "                                32)                                                               \n",
      "                                                                                                  \n",
      " max_pooling3d_5 (MaxPooling3D)  (None, 32, 32, 32,   0          ['conv3d_22[0][0]']              \n",
      "                                32)                                                               \n",
      "                                                                                                  \n",
      " conv3d_23 (Conv3D)             (None, 32, 32, 32,   55360       ['max_pooling3d_5[0][0]']        \n",
      "                                64)                                                               \n",
      "                                                                                                  \n",
      " dropout_11 (Dropout)           (None, 32, 32, 32,   0           ['conv3d_23[0][0]']              \n",
      "                                64)                                                               \n",
      "                                                                                                  \n",
      " conv3d_24 (Conv3D)             (None, 32, 32, 32,   110656      ['dropout_11[0][0]']             \n",
      "                                64)                                                               \n",
      "                                                                                                  \n",
      " max_pooling3d_6 (MaxPooling3D)  (None, 16, 16, 16,   0          ['conv3d_24[0][0]']              \n",
      "                                64)                                                               \n",
      "                                                                                                  \n",
      " conv3d_25 (Conv3D)             (None, 16, 16, 16,   221312      ['max_pooling3d_6[0][0]']        \n",
      "                                128)                                                              \n",
      "                                                                                                  \n",
      " dropout_12 (Dropout)           (None, 16, 16, 16,   0           ['conv3d_25[0][0]']              \n",
      "                                128)                                                              \n",
      "                                                                                                  \n",
      " conv3d_26 (Conv3D)             (None, 16, 16, 16,   442496      ['dropout_12[0][0]']             \n",
      "                                128)                                                              \n",
      "                                                                                                  \n",
      " max_pooling3d_7 (MaxPooling3D)  (None, 8, 8, 8, 128  0          ['conv3d_26[0][0]']              \n",
      "                                )                                                                 \n",
      "                                                                                                  \n",
      " conv3d_27 (Conv3D)             (None, 8, 8, 8, 256  884992      ['max_pooling3d_7[0][0]']        \n",
      "                                )                                                                 \n",
      "                                                                                                  \n",
      " dropout_13 (Dropout)           (None, 8, 8, 8, 256  0           ['conv3d_27[0][0]']              \n",
      "                                )                                                                 \n",
      "                                                                                                  \n",
      " conv3d_28 (Conv3D)             (None, 8, 8, 8, 256  1769728     ['dropout_13[0][0]']             \n",
      "                                )                                                                 \n",
      "                                                                                                  \n",
      " conv3d_transpose_4 (Conv3DTran  (None, 16, 16, 16,   262272     ['conv3d_28[0][0]']              \n",
      " spose)                         128)                                                              \n",
      "                                                                                                  \n",
      " concatenate_4 (Concatenate)    (None, 16, 16, 16,   0           ['conv3d_transpose_4[0][0]',     \n",
      "                                256)                              'conv3d_26[0][0]']              \n",
      "                                                                                                  \n",
      " conv3d_29 (Conv3D)             (None, 16, 16, 16,   884864      ['concatenate_4[0][0]']          \n",
      "                                128)                                                              \n",
      "                                                                                                  \n",
      " dropout_14 (Dropout)           (None, 16, 16, 16,   0           ['conv3d_29[0][0]']              \n",
      "                                128)                                                              \n",
      "                                                                                                  \n",
      " conv3d_30 (Conv3D)             (None, 16, 16, 16,   442496      ['dropout_14[0][0]']             \n",
      "                                128)                                                              \n",
      "                                                                                                  \n",
      " conv3d_transpose_5 (Conv3DTran  (None, 32, 32, 32,   65600      ['conv3d_30[0][0]']              \n",
      " spose)                         64)                                                               \n",
      "                                                                                                  \n",
      " concatenate_5 (Concatenate)    (None, 32, 32, 32,   0           ['conv3d_transpose_5[0][0]',     \n",
      "                                128)                              'conv3d_24[0][0]']              \n"
     ]
    },
    {
     "name": "stdout",
     "output_type": "stream",
     "text": [
      "                                                                                                  \n",
      " conv3d_31 (Conv3D)             (None, 32, 32, 32,   221248      ['concatenate_5[0][0]']          \n",
      "                                64)                                                               \n",
      "                                                                                                  \n",
      " dropout_15 (Dropout)           (None, 32, 32, 32,   0           ['conv3d_31[0][0]']              \n",
      "                                64)                                                               \n",
      "                                                                                                  \n",
      " conv3d_32 (Conv3D)             (None, 32, 32, 32,   110656      ['dropout_15[0][0]']             \n",
      "                                64)                                                               \n",
      "                                                                                                  \n",
      " conv3d_transpose_6 (Conv3DTran  (None, 64, 64, 64,   16416      ['conv3d_32[0][0]']              \n",
      " spose)                         32)                                                               \n",
      "                                                                                                  \n",
      " concatenate_6 (Concatenate)    (None, 64, 64, 64,   0           ['conv3d_transpose_6[0][0]',     \n",
      "                                64)                               'conv3d_22[0][0]']              \n",
      "                                                                                                  \n",
      " conv3d_33 (Conv3D)             (None, 64, 64, 64,   55328       ['concatenate_6[0][0]']          \n",
      "                                32)                                                               \n",
      "                                                                                                  \n",
      " dropout_16 (Dropout)           (None, 64, 64, 64,   0           ['conv3d_33[0][0]']              \n",
      "                                32)                                                               \n",
      "                                                                                                  \n",
      " conv3d_34 (Conv3D)             (None, 64, 64, 64,   27680       ['dropout_16[0][0]']             \n",
      "                                32)                                                               \n",
      "                                                                                                  \n",
      " conv3d_transpose_7 (Conv3DTran  (None, 128, 128, 12  4112       ['conv3d_34[0][0]']              \n",
      " spose)                         8, 16)                                                            \n",
      "                                                                                                  \n",
      " concatenate_7 (Concatenate)    (None, 128, 128, 12  0           ['conv3d_transpose_7[0][0]',     \n",
      "                                8, 32)                            'conv3d_20[0][0]']              \n",
      "                                                                                                  \n",
      " conv3d_35 (Conv3D)             (None, 128, 128, 12  13840       ['concatenate_7[0][0]']          \n",
      "                                8, 16)                                                            \n",
      "                                                                                                  \n",
      " dropout_17 (Dropout)           (None, 128, 128, 12  0           ['conv3d_35[0][0]']              \n",
      "                                8, 16)                                                            \n",
      "                                                                                                  \n",
      " conv3d_36 (Conv3D)             (None, 128, 128, 12  6928        ['dropout_17[0][0]']             \n",
      "                                8, 16)                                                            \n",
      "                                                                                                  \n",
      " conv3d_37 (Conv3D)             (None, 128, 128, 12  68          ['conv3d_36[0][0]']              \n",
      "                                8, 4)                                                             \n",
      "                                                                                                  \n",
      "==================================================================================================\n",
      "Total params: 5,645,828\n",
      "Trainable params: 5,645,828\n",
      "Non-trainable params: 0\n",
      "__________________________________________________________________________________________________\n"
     ]
    }
   ],
   "source": [
    "# Summary of the loaded model to understand the architecture\n",
    "custom_model.summary()"
   ]
  },
  {
   "cell_type": "code",
   "execution_count": 13,
   "id": "8ac95162",
   "metadata": {},
   "outputs": [],
   "source": [
    "# Freeze layers if needed (optional)\n",
    "for layer in custom_model.layers:\n",
    "    layer.trainable = False"
   ]
  },
  {
   "cell_type": "code",
   "execution_count": 14,
   "id": "3e14e945",
   "metadata": {},
   "outputs": [],
   "source": [
    "# Specify the layer from which you want to extract features\n",
    "feature_extractor = Model(inputs=custom_model.input, outputs=custom_model.layers[-2].output)"
   ]
  },
  {
   "cell_type": "code",
   "execution_count": 15,
   "id": "1d9c807f",
   "metadata": {},
   "outputs": [],
   "source": [
    "import os\n",
    "def sorted_dir(directory):\n",
    "    items=os.listdir(directory)\n",
    "    sorted_items = sorted(items)\n",
    "    return sorted_items"
   ]
  },
  {
   "cell_type": "code",
   "execution_count": 16,
   "id": "7eb5aa58",
   "metadata": {},
   "outputs": [
    {
     "name": "stdout",
     "output_type": "stream",
     "text": [
      "Brats2020_input_train_data_3channels/images/\n"
     ]
    }
   ],
   "source": [
    "# Paths to the image and mask directories\n",
    "image_dir = 'Brats2020_input_train_data_3channels/images/'\n",
    "mask_dir = 'Brats2020_input_train_data_3channels/masks/'\n",
    "\n",
    "print(image_dir)"
   ]
  },
  {
   "cell_type": "code",
   "execution_count": 17,
   "id": "8dacacef",
   "metadata": {},
   "outputs": [],
   "source": [
    "train_img_list = sorted_dir(image_dir)\n",
    "train_mask_list = sorted_dir(mask_dir)"
   ]
  },
  {
   "cell_type": "code",
   "execution_count": 19,
   "id": "dba70f49",
   "metadata": {},
   "outputs": [],
   "source": [
    "def load_img(img_list, img_dir):\n",
    "    images = []\n",
    "    image_names = []\n",
    "    for i, image_name in enumerate(img_list):    \n",
    "        if image_name.endswith('.npy'):\n",
    "            image = np.load(os.path.join(img_dir, image_name))\n",
    "            images.append(image)\n",
    "            image_names.append(image_name)\n",
    "    images = np.array(images)\n",
    "    return images, image_names"
   ]
  },
  {
   "cell_type": "code",
   "execution_count": 26,
   "id": "5fbb9bb3",
   "metadata": {},
   "outputs": [],
   "source": [
    "# List of images and masks\n",
    "# image_files = sorted([image_dir + f'image_{i}.npy' for i in range(218)])\n",
    "# mask_files = sorted([mask_dir + f'mask_{i}.npy' for i in range(218)])"
   ]
  },
  {
   "cell_type": "code",
   "execution_count": 27,
   "id": "ad3b12ec",
   "metadata": {},
   "outputs": [],
   "source": [
    "# Function to load images and masks from .npy files\n",
    "# def load_data(image_files, image_dir):\n",
    "#     images = load_img(image_files, image_dir)\n",
    "# #     masks = [np.load(file) for file in mask_files]\n",
    "#     # Reshape and normalize images if needed\n",
    "# #     images = np.array(images).astype('float32') / 255.0  # Normalize images to [0, 1]\n",
    "# #     masks = np.array(masks)\n",
    "#     # Expand dimensions if grayscale to add channel dimension\n",
    "# #     images = np.expand_dims(images, axis=-1)  # Shape becomes (num_samples, 128, 128, 128, 1)\n",
    "#     return images"
   ]
  },
  {
   "cell_type": "code",
   "execution_count": 20,
   "id": "f2021f8d",
   "metadata": {},
   "outputs": [],
   "source": [
    "# Load images and masks\n",
    "images, image_names = load_img(train_img_list, image_dir)"
   ]
  },
  {
   "cell_type": "code",
   "execution_count": 30,
   "id": "2df82af3",
   "metadata": {},
   "outputs": [
    {
     "data": {
      "text/plain": [
       "218"
      ]
     },
     "execution_count": 30,
     "metadata": {},
     "output_type": "execute_result"
    }
   ],
   "source": [
    "len(images)"
   ]
  },
  {
   "cell_type": "code",
   "execution_count": 21,
   "id": "6cbc6da9",
   "metadata": {
    "scrolled": true
   },
   "outputs": [],
   "source": [
    "# Load images and masks\n",
    "masks, mask_names = load_img(train_mask_list, mask_dir)"
   ]
  },
  {
   "cell_type": "code",
   "execution_count": 22,
   "id": "dd675507",
   "metadata": {},
   "outputs": [
    {
     "name": "stdout",
     "output_type": "stream",
     "text": [
      "Loaded 218 images and 218 masks.\n"
     ]
    }
   ],
   "source": [
    "print(f\"Loaded {len(images)} images and {len(masks)} masks.\")"
   ]
  },
  {
   "cell_type": "code",
   "execution_count": 33,
   "id": "5e744aa3",
   "metadata": {},
   "outputs": [
    {
     "ename": "InternalError",
     "evalue": "Failed copying input tensor from /job:localhost/replica:0/task:0/device:CPU:0 to /job:localhost/replica:0/task:0/device:GPU:0 in order to run _EagerConst: Dst tensor is not initialized.",
     "output_type": "error",
     "traceback": [
      "\u001b[1;31m---------------------------------------------------------------------------\u001b[0m",
      "\u001b[1;31mInternalError\u001b[0m                             Traceback (most recent call last)",
      "Input \u001b[1;32mIn [33]\u001b[0m, in \u001b[0;36m<cell line: 2>\u001b[1;34m()\u001b[0m\n\u001b[0;32m      1\u001b[0m \u001b[38;5;66;03m# Extract features using the custom model\u001b[39;00m\n\u001b[1;32m----> 2\u001b[0m features \u001b[38;5;241m=\u001b[39m \u001b[43mfeature_extractor\u001b[49m\u001b[38;5;241;43m.\u001b[39;49m\u001b[43mpredict\u001b[49m\u001b[43m(\u001b[49m\u001b[43mimages\u001b[49m\u001b[43m,\u001b[49m\u001b[43m \u001b[49m\u001b[43mbatch_size\u001b[49m\u001b[38;5;241;43m=\u001b[39;49m\u001b[38;5;241;43m2\u001b[39;49m\u001b[43m)\u001b[49m\n\u001b[0;32m      4\u001b[0m \u001b[38;5;66;03m# Flatten the features if they are multidimensional (e.g., (num_samples, feature_dim))\u001b[39;00m\n\u001b[0;32m      5\u001b[0m features_flattened \u001b[38;5;241m=\u001b[39m features\u001b[38;5;241m.\u001b[39mreshape(features\u001b[38;5;241m.\u001b[39mshape[\u001b[38;5;241m0\u001b[39m], \u001b[38;5;241m-\u001b[39m\u001b[38;5;241m1\u001b[39m)\n",
      "File \u001b[1;32m~\\anaconda3\\lib\\site-packages\\keras\\utils\\traceback_utils.py:70\u001b[0m, in \u001b[0;36mfilter_traceback.<locals>.error_handler\u001b[1;34m(*args, **kwargs)\u001b[0m\n\u001b[0;32m     67\u001b[0m     filtered_tb \u001b[38;5;241m=\u001b[39m _process_traceback_frames(e\u001b[38;5;241m.\u001b[39m__traceback__)\n\u001b[0;32m     68\u001b[0m     \u001b[38;5;66;03m# To get the full stack trace, call:\u001b[39;00m\n\u001b[0;32m     69\u001b[0m     \u001b[38;5;66;03m# `tf.debugging.disable_traceback_filtering()`\u001b[39;00m\n\u001b[1;32m---> 70\u001b[0m     \u001b[38;5;28;01mraise\u001b[39;00m e\u001b[38;5;241m.\u001b[39mwith_traceback(filtered_tb) \u001b[38;5;28;01mfrom\u001b[39;00m \u001b[38;5;28mNone\u001b[39m\n\u001b[0;32m     71\u001b[0m \u001b[38;5;28;01mfinally\u001b[39;00m:\n\u001b[0;32m     72\u001b[0m     \u001b[38;5;28;01mdel\u001b[39;00m filtered_tb\n",
      "File \u001b[1;32m~\\anaconda3\\lib\\site-packages\\tensorflow\\python\\framework\\constant_op.py:102\u001b[0m, in \u001b[0;36mconvert_to_eager_tensor\u001b[1;34m(value, ctx, dtype)\u001b[0m\n\u001b[0;32m    100\u001b[0m     dtype \u001b[38;5;241m=\u001b[39m dtypes\u001b[38;5;241m.\u001b[39mas_dtype(dtype)\u001b[38;5;241m.\u001b[39mas_datatype_enum\n\u001b[0;32m    101\u001b[0m ctx\u001b[38;5;241m.\u001b[39mensure_initialized()\n\u001b[1;32m--> 102\u001b[0m \u001b[38;5;28;01mreturn\u001b[39;00m \u001b[43mops\u001b[49m\u001b[38;5;241;43m.\u001b[39;49m\u001b[43mEagerTensor\u001b[49m\u001b[43m(\u001b[49m\u001b[43mvalue\u001b[49m\u001b[43m,\u001b[49m\u001b[43m \u001b[49m\u001b[43mctx\u001b[49m\u001b[38;5;241;43m.\u001b[39;49m\u001b[43mdevice_name\u001b[49m\u001b[43m,\u001b[49m\u001b[43m \u001b[49m\u001b[43mdtype\u001b[49m\u001b[43m)\u001b[49m\n",
      "\u001b[1;31mInternalError\u001b[0m: Failed copying input tensor from /job:localhost/replica:0/task:0/device:CPU:0 to /job:localhost/replica:0/task:0/device:GPU:0 in order to run _EagerConst: Dst tensor is not initialized."
     ]
    }
   ],
   "source": [
    "# Extract features using the custom model\n",
    "features = feature_extractor.predict(images, batch_size=2)\n",
    "\n",
    "# Flatten the features if they are multidimensional (e.g., (num_samples, feature_dim))\n",
    "features_flattened = features.reshape(features.shape[0], -1)"
   ]
  },
  {
   "cell_type": "code",
   "execution_count": null,
   "id": "3e85ba28",
   "metadata": {},
   "outputs": [],
   "source": [
    "# Convert features to DataFrame\n",
    "features_df = pd.DataFrame(features_flattened)"
   ]
  },
  {
   "cell_type": "code",
   "execution_count": null,
   "id": "8db1a971",
   "metadata": {},
   "outputs": [],
   "source": [
    "features_df['Image_Name'] = image_names"
   ]
  },
  {
   "cell_type": "code",
   "execution_count": null,
   "id": "ebc578a8",
   "metadata": {},
   "outputs": [],
   "source": [
    "columns = ['Image_Name'] + [f'Feature_{i+1}' for i in range(features_flattened.shape[1])]\n",
    "features_df.columns = columns"
   ]
  },
  {
   "cell_type": "code",
   "execution_count": null,
   "id": "3540ea12",
   "metadata": {},
   "outputs": [],
   "source": [
    "# Save features to CSV file\n",
    "features_df.to_csv('dl_extracted_features_with_names.csv', index=False)\n",
    "\n",
    "print(\"Features successfully extracted and saved to 'dl_extracted_features_with_names.csv'.\")"
   ]
  },
  {
   "cell_type": "code",
   "execution_count": null,
   "id": "173bbe0b",
   "metadata": {},
   "outputs": [],
   "source": []
  },
  {
   "cell_type": "code",
   "execution_count": null,
   "id": "93187d18",
   "metadata": {},
   "outputs": [],
   "source": []
  },
  {
   "cell_type": "code",
   "execution_count": null,
   "id": "0337c652",
   "metadata": {},
   "outputs": [],
   "source": []
  },
  {
   "cell_type": "code",
   "execution_count": null,
   "id": "993ea032",
   "metadata": {},
   "outputs": [],
   "source": []
  }
 ],
 "metadata": {
  "kernelspec": {
   "display_name": "Python 3 (ipykernel)",
   "language": "python",
   "name": "python3"
  },
  "language_info": {
   "codemirror_mode": {
    "name": "ipython",
    "version": 3
   },
   "file_extension": ".py",
   "mimetype": "text/x-python",
   "name": "python",
   "nbconvert_exporter": "python",
   "pygments_lexer": "ipython3",
   "version": "3.9.12"
  }
 },
 "nbformat": 4,
 "nbformat_minor": 5
}
